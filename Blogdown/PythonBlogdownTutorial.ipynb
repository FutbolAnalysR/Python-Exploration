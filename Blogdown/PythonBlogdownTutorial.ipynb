{
 "nbformat": 4,
 "nbformat_minor": 2,
 "metadata": {
  "language_info": {
   "name": "python",
   "codemirror_mode": {
    "name": "ipython",
    "version": 3
   },
   "version": "3.7.3-final"
  },
  "orig_nbformat": 2,
  "file_extension": ".py",
  "mimetype": "text/x-python",
  "name": "python",
  "npconvert_exporter": "python",
  "pygments_lexer": "ipython3",
  "version": 3,
  "kernelspec": {
   "name": "python37364bit8a34c89be33f44edaa90fc286785464f",
   "display_name": "Python 3.7.3 64-bit"
  }
 },
 "cells": [
  {
   "cell_type": "markdown",
   "metadata": {},
   "source": [
    "# Installing the Statsbomb Python Library\n",
    "\n",
    "I have started using Python more and wanted to find away of creating Jupyter notebooks on VS Code and converting them to Markdown files for my Blogdown created in R Studio. Didn't take me long to find a really simple tutorial on how to easily do this. For this tutorial, I am also going to download and install the Statsbomb Python library, using a zip folder I have downloaded from their [github page](https://github.com/statsbomb/statsbombpy).  \n",
    "\n",
    "Before I get started, I like to work with Jupyter Notebooks within my VS Code environment. This might not be normal, I'm not sure but for those that are interested you can find how to implement this on your device [here](https://code.visualstudio.com/docs/python/jupyter-support). For this type of environment, my terminal working directory is always pointed to where the current file is saved, or where my VS Code project is based. This makes it quite easy to use and direct to data files saved within the working directory.\n",
    "\n",
    "Once I have downloaded the statsbombpy zip file from github, I added this to my current Jupyter notebook working directory. In the terminal, I changed my working directory using cd statsbombpy-master, then ran pip install . to install the statsbombpy library successfully.  \n",
    "\n",
    "Now we have the library installed, let's see how easy it is to run and pull the free competitions in to our notebook. "
   ]
  },
  {
   "cell_type": "code",
   "execution_count": 2,
   "metadata": {},
   "outputs": [
    {
     "name": "stdout",
     "output_type": "stream",
     "text": "credentials were not supplied. open data access only\n"
    },
    {
     "data": {
      "text/html": "<div>\n<style scoped>\n    .dataframe tbody tr th:only-of-type {\n        vertical-align: middle;\n    }\n\n    .dataframe tbody tr th {\n        vertical-align: top;\n    }\n\n    .dataframe thead th {\n        text-align: right;\n    }\n</style>\n<table border=\"1\" class=\"dataframe\">\n  <thead>\n    <tr style=\"text-align: right;\">\n      <th></th>\n      <th>competition_id</th>\n      <th>season_id</th>\n      <th>country_name</th>\n      <th>competition_name</th>\n      <th>competition_gender</th>\n      <th>season_name</th>\n      <th>match_updated</th>\n      <th>match_available</th>\n    </tr>\n  </thead>\n  <tbody>\n    <tr>\n      <th>0</th>\n      <td>37</td>\n      <td>42</td>\n      <td>England</td>\n      <td>FA Women's Super League</td>\n      <td>female</td>\n      <td>2019/2020</td>\n      <td>2020-03-11T14:09:41.932138</td>\n      <td>2020-03-11T14:09:41.932138</td>\n    </tr>\n    <tr>\n      <th>1</th>\n      <td>37</td>\n      <td>4</td>\n      <td>England</td>\n      <td>FA Women's Super League</td>\n      <td>female</td>\n      <td>2018/2019</td>\n      <td>2020-02-27T15:59:58.148</td>\n      <td>2020-02-27T15:59:58.148</td>\n    </tr>\n    <tr>\n      <th>2</th>\n      <td>43</td>\n      <td>3</td>\n      <td>International</td>\n      <td>FIFA World Cup</td>\n      <td>male</td>\n      <td>2018</td>\n      <td>2019-12-16T23:09:16.168756</td>\n      <td>2019-12-16T23:09:16.168756</td>\n    </tr>\n    <tr>\n      <th>3</th>\n      <td>11</td>\n      <td>4</td>\n      <td>Spain</td>\n      <td>La Liga</td>\n      <td>male</td>\n      <td>2018/2019</td>\n      <td>2020-02-27T12:19:39.458017</td>\n      <td>2020-02-27T12:19:39.458017</td>\n    </tr>\n    <tr>\n      <th>4</th>\n      <td>11</td>\n      <td>1</td>\n      <td>Spain</td>\n      <td>La Liga</td>\n      <td>male</td>\n      <td>2017/2018</td>\n      <td>2020-02-27T12:19:39.458017</td>\n      <td>2020-02-27T12:19:39.458017</td>\n    </tr>\n  </tbody>\n</table>\n</div>",
      "text/plain": "   competition_id  season_id   country_name         competition_name  \\\n0              37         42        England  FA Women's Super League   \n1              37          4        England  FA Women's Super League   \n2              43          3  International           FIFA World Cup   \n3              11          4          Spain                  La Liga   \n4              11          1          Spain                  La Liga   \n\n  competition_gender season_name               match_updated  \\\n0             female   2019/2020  2020-03-11T14:09:41.932138   \n1             female   2018/2019     2020-02-27T15:59:58.148   \n2               male        2018  2019-12-16T23:09:16.168756   \n3               male   2018/2019  2020-02-27T12:19:39.458017   \n4               male   2017/2018  2020-02-27T12:19:39.458017   \n\n              match_available  \n0  2020-03-11T14:09:41.932138  \n1     2020-02-27T15:59:58.148  \n2  2019-12-16T23:09:16.168756  \n3  2020-02-27T12:19:39.458017  \n4  2020-02-27T12:19:39.458017  "
     },
     "execution_count": 2,
     "metadata": {},
     "output_type": "execute_result"
    }
   ],
   "source": [
    "### First we must import the relevant library.\n",
    "from statsbombpy import sb\n",
    "\n",
    "### Then we can now call all free competitions \n",
    "comps = sb.competitions()\n",
    "comps.head(5)"
   ]
  },
  {
   "cell_type": "markdown",
   "metadata": {},
   "source": [
    "We can then find the matches using the matches function from the statsbombpy library. Let's do this for the 2019/2020 season of the FA WSL. "
   ]
  },
  {
   "cell_type": "code",
   "execution_count": 4,
   "metadata": {},
   "outputs": [
    {
     "name": "stdout",
     "output_type": "stream",
     "text": "credentials were not supplied. open data access only\n"
    },
    {
     "data": {
      "text/html": "<div>\n<style scoped>\n    .dataframe tbody tr th:only-of-type {\n        vertical-align: middle;\n    }\n\n    .dataframe tbody tr th {\n        vertical-align: top;\n    }\n\n    .dataframe thead th {\n        text-align: right;\n    }\n</style>\n<table border=\"1\" class=\"dataframe\">\n  <thead>\n    <tr style=\"text-align: right;\">\n      <th></th>\n      <th>match_id</th>\n      <th>match_date</th>\n      <th>kick_off</th>\n      <th>competition</th>\n      <th>season</th>\n      <th>home_team</th>\n      <th>away_team</th>\n      <th>home_score</th>\n      <th>away_score</th>\n      <th>match_status</th>\n      <th>last_updated</th>\n      <th>match_week</th>\n      <th>competition_stage</th>\n      <th>stadium</th>\n      <th>referee</th>\n      <th>data_version</th>\n      <th>shot_fidelity_version</th>\n      <th>xy_fidelity_version</th>\n    </tr>\n  </thead>\n  <tbody>\n    <tr>\n      <th>0</th>\n      <td>2275038</td>\n      <td>2020-02-12</td>\n      <td>20:30:00.000</td>\n      <td>England - FA Women's Super League</td>\n      <td>2019/2020</td>\n      <td>Reading WFC</td>\n      <td>West Ham United LFC</td>\n      <td>2</td>\n      <td>0</td>\n      <td>available</td>\n      <td>2020-02-14T17:43:49.368</td>\n      <td>16</td>\n      <td>Regular Season</td>\n      <td>Adams Park</td>\n      <td>A. Bryne</td>\n      <td>1.1.0</td>\n      <td>2</td>\n      <td>2</td>\n    </tr>\n    <tr>\n      <th>1</th>\n      <td>2275037</td>\n      <td>2020-02-02</td>\n      <td>15:00:00.000</td>\n      <td>England - FA Women's Super League</td>\n      <td>2019/2020</td>\n      <td>Manchester City WFC</td>\n      <td>Arsenal WFC</td>\n      <td>2</td>\n      <td>1</td>\n      <td>available</td>\n      <td>2020-02-04T17:25:33.263</td>\n      <td>14</td>\n      <td>Regular Season</td>\n      <td>Academy Stadium</td>\n      <td>S. Pearson</td>\n      <td>1.1.0</td>\n      <td>2</td>\n      <td>2</td>\n    </tr>\n    <tr>\n      <th>2</th>\n      <td>2275027</td>\n      <td>2020-02-02</td>\n      <td>15:00:00.000</td>\n      <td>England - FA Women's Super League</td>\n      <td>2019/2020</td>\n      <td>Brighton &amp; Hove Albion WFC</td>\n      <td>Everton LFC</td>\n      <td>1</td>\n      <td>0</td>\n      <td>available</td>\n      <td>2020-02-04T17:28:02.434</td>\n      <td>14</td>\n      <td>Regular Season</td>\n      <td>NaN</td>\n      <td>A. Bryne</td>\n      <td>1.1.0</td>\n      <td>2</td>\n      <td>2</td>\n    </tr>\n    <tr>\n      <th>3</th>\n      <td>2275030</td>\n      <td>2020-02-23</td>\n      <td>15:00:00.000</td>\n      <td>England - FA Women's Super League</td>\n      <td>2019/2020</td>\n      <td>Brighton &amp; Hove Albion WFC</td>\n      <td>Tottenham Hotspur Women</td>\n      <td>0</td>\n      <td>1</td>\n      <td>available</td>\n      <td>2020-02-26T15:02:00.122</td>\n      <td>17</td>\n      <td>Regular Season</td>\n      <td>NaN</td>\n      <td>L. Saunders</td>\n      <td>1.1.0</td>\n      <td>2</td>\n      <td>2</td>\n    </tr>\n    <tr>\n      <th>4</th>\n      <td>2275120</td>\n      <td>2019-09-08</td>\n      <td>15:00:00.000</td>\n      <td>England - FA Women's Super League</td>\n      <td>2019/2020</td>\n      <td>Birmingham City WFC</td>\n      <td>Everton LFC</td>\n      <td>0</td>\n      <td>1</td>\n      <td>available</td>\n      <td>2019-12-16T23:09:16.168756</td>\n      <td>1</td>\n      <td>Regular Season</td>\n      <td>SportNation.bet Stadium</td>\n      <td>E. Swallow</td>\n      <td>1.1.0</td>\n      <td>2</td>\n      <td>2</td>\n    </tr>\n  </tbody>\n</table>\n</div>",
      "text/plain": "   match_id  match_date      kick_off                        competition  \\\n0   2275038  2020-02-12  20:30:00.000  England - FA Women's Super League   \n1   2275037  2020-02-02  15:00:00.000  England - FA Women's Super League   \n2   2275027  2020-02-02  15:00:00.000  England - FA Women's Super League   \n3   2275030  2020-02-23  15:00:00.000  England - FA Women's Super League   \n4   2275120  2019-09-08  15:00:00.000  England - FA Women's Super League   \n\n      season                   home_team                away_team  home_score  \\\n0  2019/2020                 Reading WFC      West Ham United LFC           2   \n1  2019/2020         Manchester City WFC              Arsenal WFC           2   \n2  2019/2020  Brighton & Hove Albion WFC              Everton LFC           1   \n3  2019/2020  Brighton & Hove Albion WFC  Tottenham Hotspur Women           0   \n4  2019/2020         Birmingham City WFC              Everton LFC           0   \n\n   away_score match_status                last_updated  match_week  \\\n0           0    available     2020-02-14T17:43:49.368          16   \n1           1    available     2020-02-04T17:25:33.263          14   \n2           0    available     2020-02-04T17:28:02.434          14   \n3           1    available     2020-02-26T15:02:00.122          17   \n4           1    available  2019-12-16T23:09:16.168756           1   \n\n  competition_stage                  stadium      referee data_version  \\\n0    Regular Season               Adams Park     A. Bryne        1.1.0   \n1    Regular Season          Academy Stadium   S. Pearson        1.1.0   \n2    Regular Season                      NaN     A. Bryne        1.1.0   \n3    Regular Season                      NaN  L. Saunders        1.1.0   \n4    Regular Season  SportNation.bet Stadium   E. Swallow        1.1.0   \n\n  shot_fidelity_version xy_fidelity_version  \n0                     2                   2  \n1                     2                   2  \n2                     2                   2  \n3                     2                   2  \n4                     2                   2  "
     },
     "execution_count": 4,
     "metadata": {},
     "output_type": "execute_result"
    }
   ],
   "source": [
    "### Find the free matches from a league in the competitions table above\n",
    "## Add the competition id below.\n",
    "comp = 37\n",
    "\n",
    "## Add the season id below\n",
    "season = 42\n",
    "\n",
    "### Run the matches function to pull all the matches from the competition and season. \n",
    "matches = sb.matches(competition_id = comp, season_id = season)\n",
    "matches.head(5)"
   ]
  },
  {
   "cell_type": "markdown",
   "metadata": {},
   "source": [
    "As easy as that, we have all the matches available in the Statsbomb free data set, detailing everything we might want to know about the specific matches. If we change the comp and season values and supply them to the matches function, we can get the details from a different competition or season very quickly.\n",
    "\n",
    "But who played for each team in these matches, we can find that too using the lineups function supplied in the library."
   ]
  },
  {
   "cell_type": "code",
   "execution_count": 12,
   "metadata": {},
   "outputs": [
    {
     "name": "stdout",
     "output_type": "stream",
     "text": "credentials were not supplied. open data access only\n"
    },
    {
     "data": {
      "text/html": "<div>\n<style scoped>\n    .dataframe tbody tr th:only-of-type {\n        vertical-align: middle;\n    }\n\n    .dataframe tbody tr th {\n        vertical-align: top;\n    }\n\n    .dataframe thead th {\n        text-align: right;\n    }\n</style>\n<table border=\"1\" class=\"dataframe\">\n  <thead>\n    <tr style=\"text-align: right;\">\n      <th></th>\n      <th>player_id</th>\n      <th>player_name</th>\n      <th>player_nickname</th>\n      <th>jersey_number</th>\n      <th>country</th>\n    </tr>\n  </thead>\n  <tbody>\n    <tr>\n      <th>0</th>\n      <td>8297</td>\n      <td>Adriana Leon</td>\n      <td>None</td>\n      <td>19</td>\n      <td>Canada</td>\n    </tr>\n    <tr>\n      <th>1</th>\n      <td>15421</td>\n      <td>Kenza Dali</td>\n      <td>None</td>\n      <td>21</td>\n      <td>France</td>\n    </tr>\n    <tr>\n      <th>2</th>\n      <td>18146</td>\n      <td>Leanne Kiernan</td>\n      <td>None</td>\n      <td>8</td>\n      <td>Ireland</td>\n    </tr>\n    <tr>\n      <th>3</th>\n      <td>18147</td>\n      <td>Kate Longhurst</td>\n      <td>None</td>\n      <td>12</td>\n      <td>England</td>\n    </tr>\n    <tr>\n      <th>4</th>\n      <td>18150</td>\n      <td>Julia Simic</td>\n      <td>None</td>\n      <td>10</td>\n      <td>Germany</td>\n    </tr>\n    <tr>\n      <th>5</th>\n      <td>18151</td>\n      <td>Gilly Louise Scarlett Flaherty</td>\n      <td>Gilly Flaherty</td>\n      <td>5</td>\n      <td>England</td>\n    </tr>\n    <tr>\n      <th>6</th>\n      <td>18153</td>\n      <td>Alisha Lehmann</td>\n      <td>None</td>\n      <td>7</td>\n      <td>Switzerland</td>\n    </tr>\n    <tr>\n      <th>7</th>\n      <td>22027</td>\n      <td>Anne Moorhouse</td>\n      <td>None</td>\n      <td>1</td>\n      <td>England</td>\n    </tr>\n    <tr>\n      <th>8</th>\n      <td>23217</td>\n      <td>Tessel Middag</td>\n      <td>None</td>\n      <td>23</td>\n      <td>Netherlands</td>\n    </tr>\n    <tr>\n      <th>9</th>\n      <td>31553</td>\n      <td>Cecilie Redisch Kvamme</td>\n      <td>None</td>\n      <td>2</td>\n      <td>Norway</td>\n    </tr>\n  </tbody>\n</table>\n</div>",
      "text/plain": "   player_id                     player_name player_nickname  jersey_number  \\\n0       8297                    Adriana Leon            None             19   \n1      15421                      Kenza Dali            None             21   \n2      18146                  Leanne Kiernan            None              8   \n3      18147                  Kate Longhurst            None             12   \n4      18150                     Julia Simic            None             10   \n5      18151  Gilly Louise Scarlett Flaherty  Gilly Flaherty              5   \n6      18153                  Alisha Lehmann            None              7   \n7      22027                  Anne Moorhouse            None              1   \n8      23217                   Tessel Middag            None             23   \n9      31553          Cecilie Redisch Kvamme            None              2   \n\n       country  \n0       Canada  \n1       France  \n2      Ireland  \n3      England  \n4      Germany  \n5      England  \n6  Switzerland  \n7      England  \n8  Netherlands  \n9       Norway  "
     },
     "execution_count": 12,
     "metadata": {},
     "output_type": "execute_result"
    }
   ],
   "source": [
    "### Run the lineups function to get the lineups for each team in a given match. \n",
    "## Add match_id here\n",
    "match = 2275038\n",
    "\n",
    "## Run function and assign to lineups\n",
    "lineup = sb.lineups(match_id = match)['West Ham United LFC']\n",
    "lineup.head(10)"
   ]
  },
  {
   "cell_type": "markdown",
   "metadata": {},
   "source": [
    "The output of this call is a little different, and needs to be subset to print nicely in markdown. But as a JSON format this is very easy in Python, by adding the \"['West Ham United LFC']\" at the end of the call, we were able to subset all the West Ham line up data. \n",
    "\n",
    "Lastly and most importantly, the event data can be called using one of two event functions in the library, either on a given match or an entire league. \n",
    "\n",
    "sb.events will call the events for a given match, by passing the match id within the function. sb.competition_events will get all the events from a specified league with details found on the library github site. "
   ]
  },
  {
   "cell_type": "code",
   "execution_count": 14,
   "metadata": {},
   "outputs": [
    {
     "name": "stdout",
     "output_type": "stream",
     "text": "credentials were not supplied. open data access only\n"
    },
    {
     "data": {
      "text/html": "<div>\n<style scoped>\n    .dataframe tbody tr th:only-of-type {\n        vertical-align: middle;\n    }\n\n    .dataframe tbody tr th {\n        vertical-align: top;\n    }\n\n    .dataframe thead th {\n        text-align: right;\n    }\n</style>\n<table border=\"1\" class=\"dataframe\">\n  <thead>\n    <tr style=\"text-align: right;\">\n      <th></th>\n      <th>50_50</th>\n      <th>bad_behaviour</th>\n      <th>ball_receipt</th>\n      <th>ball_recovery</th>\n      <th>block</th>\n      <th>carry</th>\n      <th>clearance</th>\n      <th>counterpress</th>\n      <th>dribble</th>\n      <th>duel</th>\n      <th>...</th>\n      <th>possession_team</th>\n      <th>related_events</th>\n      <th>second</th>\n      <th>shot</th>\n      <th>substitution</th>\n      <th>tactics</th>\n      <th>team</th>\n      <th>timestamp</th>\n      <th>type</th>\n      <th>under_pressure</th>\n    </tr>\n  </thead>\n  <tbody>\n    <tr>\n      <th>0</th>\n      <td>NaN</td>\n      <td>NaN</td>\n      <td>NaN</td>\n      <td>NaN</td>\n      <td>NaN</td>\n      <td>NaN</td>\n      <td>NaN</td>\n      <td>NaN</td>\n      <td>NaN</td>\n      <td>NaN</td>\n      <td>...</td>\n      <td>Reading WFC</td>\n      <td>NaN</td>\n      <td>0</td>\n      <td>NaN</td>\n      <td>NaN</td>\n      <td>{'formation': 41212, 'lineup': [{'player': {'i...</td>\n      <td>Reading WFC</td>\n      <td>00:00:00.000</td>\n      <td>Starting XI</td>\n      <td>NaN</td>\n    </tr>\n    <tr>\n      <th>1</th>\n      <td>NaN</td>\n      <td>NaN</td>\n      <td>NaN</td>\n      <td>NaN</td>\n      <td>NaN</td>\n      <td>NaN</td>\n      <td>NaN</td>\n      <td>NaN</td>\n      <td>NaN</td>\n      <td>NaN</td>\n      <td>...</td>\n      <td>Reading WFC</td>\n      <td>NaN</td>\n      <td>0</td>\n      <td>NaN</td>\n      <td>NaN</td>\n      <td>{'formation': 4231, 'lineup': [{'player': {'id...</td>\n      <td>West Ham United LFC</td>\n      <td>00:00:00.000</td>\n      <td>Starting XI</td>\n      <td>NaN</td>\n    </tr>\n    <tr>\n      <th>2</th>\n      <td>NaN</td>\n      <td>NaN</td>\n      <td>NaN</td>\n      <td>NaN</td>\n      <td>NaN</td>\n      <td>NaN</td>\n      <td>NaN</td>\n      <td>NaN</td>\n      <td>NaN</td>\n      <td>NaN</td>\n      <td>...</td>\n      <td>Reading WFC</td>\n      <td>[035f18f5-8767-475f-b96b-b1548c2fd642]</td>\n      <td>0</td>\n      <td>NaN</td>\n      <td>NaN</td>\n      <td>NaN</td>\n      <td>West Ham United LFC</td>\n      <td>00:00:00.000</td>\n      <td>Half Start</td>\n      <td>NaN</td>\n    </tr>\n    <tr>\n      <th>3</th>\n      <td>NaN</td>\n      <td>NaN</td>\n      <td>NaN</td>\n      <td>NaN</td>\n      <td>NaN</td>\n      <td>NaN</td>\n      <td>NaN</td>\n      <td>NaN</td>\n      <td>NaN</td>\n      <td>NaN</td>\n      <td>...</td>\n      <td>Reading WFC</td>\n      <td>[da9c5398-dae9-4a3d-b821-fd600b54a55d]</td>\n      <td>0</td>\n      <td>NaN</td>\n      <td>NaN</td>\n      <td>NaN</td>\n      <td>Reading WFC</td>\n      <td>00:00:00.000</td>\n      <td>Half Start</td>\n      <td>NaN</td>\n    </tr>\n    <tr>\n      <th>4</th>\n      <td>NaN</td>\n      <td>NaN</td>\n      <td>NaN</td>\n      <td>NaN</td>\n      <td>NaN</td>\n      <td>NaN</td>\n      <td>NaN</td>\n      <td>NaN</td>\n      <td>NaN</td>\n      <td>NaN</td>\n      <td>...</td>\n      <td>Reading WFC</td>\n      <td>[f0bd2ba7-a946-4414-b04f-aeeae0928f31]</td>\n      <td>0</td>\n      <td>NaN</td>\n      <td>NaN</td>\n      <td>NaN</td>\n      <td>West Ham United LFC</td>\n      <td>00:00:00.000</td>\n      <td>Half Start</td>\n      <td>NaN</td>\n    </tr>\n  </tbody>\n</table>\n<p>5 rows × 41 columns</p>\n</div>",
      "text/plain": "  50_50 bad_behaviour ball_receipt ball_recovery block carry clearance  \\\n0   NaN           NaN          NaN           NaN   NaN   NaN       NaN   \n1   NaN           NaN          NaN           NaN   NaN   NaN       NaN   \n2   NaN           NaN          NaN           NaN   NaN   NaN       NaN   \n3   NaN           NaN          NaN           NaN   NaN   NaN       NaN   \n4   NaN           NaN          NaN           NaN   NaN   NaN       NaN   \n\n  counterpress dribble duel  ...  possession_team  \\\n0          NaN     NaN  NaN  ...      Reading WFC   \n1          NaN     NaN  NaN  ...      Reading WFC   \n2          NaN     NaN  NaN  ...      Reading WFC   \n3          NaN     NaN  NaN  ...      Reading WFC   \n4          NaN     NaN  NaN  ...      Reading WFC   \n\n                           related_events second shot substitution  \\\n0                                     NaN      0  NaN          NaN   \n1                                     NaN      0  NaN          NaN   \n2  [035f18f5-8767-475f-b96b-b1548c2fd642]      0  NaN          NaN   \n3  [da9c5398-dae9-4a3d-b821-fd600b54a55d]      0  NaN          NaN   \n4  [f0bd2ba7-a946-4414-b04f-aeeae0928f31]      0  NaN          NaN   \n\n                                             tactics                 team  \\\n0  {'formation': 41212, 'lineup': [{'player': {'i...          Reading WFC   \n1  {'formation': 4231, 'lineup': [{'player': {'id...  West Ham United LFC   \n2                                                NaN  West Ham United LFC   \n3                                                NaN          Reading WFC   \n4                                                NaN  West Ham United LFC   \n\n      timestamp         type under_pressure  \n0  00:00:00.000  Starting XI            NaN  \n1  00:00:00.000  Starting XI            NaN  \n2  00:00:00.000   Half Start            NaN  \n3  00:00:00.000   Half Start            NaN  \n4  00:00:00.000   Half Start            NaN  \n\n[5 rows x 41 columns]"
     },
     "execution_count": 14,
     "metadata": {},
     "output_type": "execute_result"
    }
   ],
   "source": [
    "### Run function to call the events from a single match\n",
    "## Run the event function using the assigned match from above\n",
    "match_events = sb.events(match_id = match)\n",
    "match_events.head(5)"
   ]
  },
  {
   "cell_type": "markdown",
   "metadata": {},
   "source": [
    "As we can see, there is a lot of information to be found in the event files, which will require a lot of data transformation before we can use this effectively.  "
   ]
  },
  {
   "cell_type": "code",
   "execution_count": null,
   "metadata": {},
   "outputs": [],
   "source": []
  }
 ]
}